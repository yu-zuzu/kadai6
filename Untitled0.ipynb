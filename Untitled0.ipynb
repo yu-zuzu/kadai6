{
  "nbformat": 4,
  "nbformat_minor": 0,
  "metadata": {
    "colab": {
      "provenance": []
    },
    "kernelspec": {
      "name": "python3",
      "display_name": "Python 3"
    },
    "language_info": {
      "name": "python"
    }
  },
  "cells": [
    {
      "cell_type": "markdown",
      "source": [
        "課題 6 API を提供する「良いコード」を書く\n",
        "G24950 山﨑柚佳"
      ],
      "metadata": {
        "id": "hG3kbCc0zSs0"
      }
    },
    {
      "cell_type": "markdown",
      "source": [
        "##実装したAPI\n",
        "| エンドポイント | 内容 |\n",
        "|----------------|------|\n",
        "| `/say_hi/` | 動作テスト用（Hiを返す） |\n",
        "| `/fit_trendline/` | 任意のデータに対して回帰（POST） |\n",
        "| `/country_trendline/{国名}` | 指定した国のトレンド（傾きなど）を返す |\n",
        "| `/country_image/{国名}` | グラフ画像を生成して返す |"
      ],
      "metadata": {
        "id": "aaItxxjELxFR"
      }
    },
    {
      "cell_type": "code",
      "source": [],
      "metadata": {
        "id": "7d6hqvUxLwv8"
      },
      "execution_count": null,
      "outputs": []
    },
    {
      "cell_type": "markdown",
      "source": [
        "##修正したこと\n",
        "-回帰式の傾き・R²・切片を計算する関数を追加\n",
        "- グラフ画像を自動生成してPNGで返すようにした\n",
        "- 入力データにバリデーション（空・順序・長さなど）を入れた\n",
        "- Excelデータ読み込み時に不要な列を削除\n"
      ],
      "metadata": {
        "id": "aRxnJ-eHzj30"
      }
    },
    {
      "cell_type": "markdown",
      "source": [],
      "metadata": {
        "id": "rWF-gtuYzOqd"
      }
    },
    {
      "cell_type": "code",
      "execution_count": null,
      "metadata": {
        "id": "V0dxYjMjyNHj"
      },
      "outputs": [],
      "source": []
    }
  ]
}